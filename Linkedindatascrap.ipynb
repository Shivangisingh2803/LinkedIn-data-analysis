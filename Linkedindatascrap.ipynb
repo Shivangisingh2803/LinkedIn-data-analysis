{
 "cells": [
  {
   "cell_type": "code",
   "execution_count": 56,
   "metadata": {},
   "outputs": [],
   "source": [
    "from selenium import webdriver\n",
    "import time\n",
    "import pandas as pd\n",
    "import os"
   ]
  },
  {
   "cell_type": "code",
   "execution_count": 57,
   "metadata": {},
   "outputs": [],
   "source": [
    "from selenium.webdriver.support.select import Select\n",
    "from selenium.webdriver.support.ui import WebDriverWait\n",
    "from selenium.webdriver.common.by import By\n",
    "from selenium.webdriver.support import expected_conditions as EC"
   ]
  },
  {
   "cell_type": "code",
   "execution_count": 63,
   "metadata": {},
   "outputs": [],
   "source": [
    "url=\"https://www.linkedin.com/jobs/search/?currentJobId=4079789307&geoId=102713980&keywords=data%20analyst&origin=JOB_SEARCH_PAGE_SEARCH_BUTTON&refresh=true\""
   ]
  },
  {
   "cell_type": "code",
   "execution_count": 64,
   "metadata": {},
   "outputs": [],
   "source": [
    "driver = webdriver.Chrome()\n",
    "driver.get(url)\n",
    "driver.implicitly_wait(100)"
   ]
  },
  {
   "cell_type": "code",
   "execution_count": 65,
   "metadata": {},
   "outputs": [
    {
     "data": {
      "text/plain": [
       "str"
      ]
     },
     "execution_count": 65,
     "metadata": {},
     "output_type": "execute_result"
    }
   ],
   "source": [
    "y = driver.find_element(By.CLASS_NAME, 'results-context-header__job-count').text\n",
    "type(y)"
   ]
  },
  {
   "cell_type": "code",
   "execution_count": 66,
   "metadata": {},
   "outputs": [
    {
     "name": "stdout",
     "output_type": "stream",
     "text": [
      "115000\n"
     ]
    },
    {
     "data": {
      "text/plain": [
       "int"
      ]
     },
     "execution_count": 66,
     "metadata": {},
     "output_type": "execute_result"
    }
   ],
   "source": [
    "n =y.replace(\",\", \"\").replace(\"+\", \"\")\n",
    "print(n)\n",
    "n=int(n)\n",
    "type(n)"
   ]
  },
  {
   "cell_type": "code",
   "execution_count": 101,
   "metadata": {},
   "outputs": [
    {
     "name": "stdout",
     "output_type": "stream",
     "text": [
      "Done or error:  Message: \n",
      "\n"
     ]
    }
   ],
   "source": [
    "i = 2\n",
    "max_scroll_attempts = int((n + 200)/25)  # Adjust this formula based on how many jobs you want to load\n",
    "\n",
    "# Loop to scroll and load more jobs\n",
    "while i <= max_scroll_attempts:\n",
    "    # Scroll to the bottom of the page (optimized)\n",
    "    driver.execute_script(\"window.scrollTo(0, document.body.scrollHeight);\")\n",
    "\n",
    "    try:\n",
    "        # Wait for the 'See more jobs' button to be clickable (using WebDriverWait)\n",
    "        send = WebDriverWait(driver, 10).until(\n",
    "            EC.element_to_be_clickable((By.XPATH, \"//button[@aria-label='See more jobs']\"))\n",
    "        )\n",
    "        # Click the button to load more jobs\n",
    "        driver.execute_script(\"arguments[0].click();\", send)\n",
    "\n",
    "        # Increment counter and minimize sleep time\n",
    "        i += 1\n",
    "        WebDriverWait(driver, 5).until(EC.staleness_of(send))  # Wait for the button to disappear or refresh\n",
    "    except Exception as e:\n",
    "        # If no more jobs to load, exit the loop\n",
    "        print(\"Done or error: \", e)\n",
    "        break"
   ]
  },
  {
   "cell_type": "code",
   "execution_count": 102,
   "metadata": {},
   "outputs": [
    {
     "name": "stdout",
     "output_type": "stream",
     "text": [
      "['Deloitte', 'Deloitte', 'slice', 'LTIMindtree', 'EaseMyTrip.com', 'Unacademy', 'KPIT', 'EXL', 'Capgemini Engineering', 'Genpact', 'Envision Energy', 'Sun Life', 'PW (PhysicsWallah)', 'American Express', 'LTIMindtree', 'Aditya Birla Group', 'Genpact', 'HP', 'NielsenIQ', 'Artefact', 'Nat Habit', 'SMC Squared India', 'Wipro', 'ValueLabs', 'Centric Consulting', 'Elevate Global', 'Deloitte', 'Reliance Industries Limited', 'StatusNeo', 'American Express', 'Synechron', 'Chai Point', 'Experian', 'Tata Consultancy Services', 'Anaplan', 'American Express', 'Elevate Global', 'The Good Glamm Group', 'Zensar Technologies', 'HTC Global Services', 'Recro', 'IGT Solutions', 'Garena', 'Google', 'HH Global', 'Appinventiv', 'Appinventiv', 'Enrich Money', 'Jar', 'Morgan Stanley', 'ADM', 'Mondelēz International', 'BrandSafway', 'PwC India', 'YRAL', 'EXL', 'Claro Energy', 'GroundTruth', 'ION', 'YipitData', 'Elevate Global', 'Deloitte', 'Reliance Industries Limited', 'StatusNeo', 'American Express', 'Synechron', 'Chai Point', 'Experian', 'Tata Consultancy Services', 'American Express', 'Morgan Stanley', 'ADM', 'Mondelēz International', 'BrandSafway', 'YRAL', 'EXL', 'Claro Energy', 'GroundTruth', 'ION', 'YipitData', 'Nextiva', 'Zensar Technologies', 'OneOrigin', 'Virtusa', 'Gridware', 'Techmantu Digital', 'Stackave Solutions', 'Kwalee', 'Bytemetrics Solutions', 'NuvoRetail', 'Deluxe', 'Adobe', 'Cognizant', 'CDK Global', 'Gigafactor Solutions', 'Accobridge Solutions', 'RecroconX Technologies', 'EVERSANA', 'Tata Consultancy Services', 'Bytemetrics Solutions', 'RecroconX Technologies', 'Gainwell Technologies', 'Gigafactor Solutions', 'PrimefactorX', 'PrimefactorX', 'STOXX', 'Epsilon India', 'PrimefactorX', 'PrimefactorX', 'theprintspace', 'Bytemetrics Solutions', 'InnovateNuo Solutions', 'PrimefactorX', 'PwC India', 'American Express', 'PrimefactorX', 'InnovatexIQ Solutions', 'JPMorganChase', 'Accobridge Solutions', 'Bytemetrics Solutions', 'FuelBuddy', 'Enlighten Schola', 'Ares Management Corporation', 'ANZ', 'Adani Green Energy Ltd.', 'Globewick', 'RecroconX Technologies', 'Adept Global', 'PINKERTON | Comprehensive Risk Management', 'Bytemetrics Solutions', 'Bytemetrics Solutions', 'Thoucentric', 'Atidiv', 'STOXX', 'Accobridge Solutions', 'Idyllic Services', 'Recro', 'Cloud Counselage Pvt. Ltd.', 'Bytemetrics Solutions', 'Bristlecone', 'Accobridge Solutions', 'RecroconX Technologies', 'EXL', 'Gigafactor Solutions', 'Bytemetrics Solutions', 'PrimefactorX', 'WeRize', 'InnovateNuo Solutions', 'PrimefactorX', 'Gigafactor Solutions', 'Recro', 'Innovateshield Solutions', 'Mastercard', 'InnovateNuo Solutions', 'Soul AI', 'Innovateshield Solutions', 'RecroconX Technologies', 'PrimefactorX', 'Freelancerprox', 'American Express', 'PrimefactorX', 'NatWest Group', 'Innovateshield Solutions', 'Inspire', 'Luxoft', 'PrimefactorX', 'BayOne Solutions', 'NielsenIQ', 'Palladium: Make It Possible', 'SAZ India- Complete Career Solutions', 'Chubb', 'Flex AI', 'InnovateNuo Solutions', 'Gigafactor Solutions', 'STOXX', 'Flex AI', 'BlackRock', 'Cortex Consultants LLC', 'MSCI Inc.', 'Amagi Corporation', 'DMAIC Academy & Consultancy', 'Unified Mentor Private Limited', 'Cognizant', 'TwiLearn', 'Innovateshield Solutions', 'RecroconX Technologies', 'Cognizant', 'Tata Consultancy Services', 'JPMorganChase', 'PrimefactorX', 'Andor Tech', 'JPMorganChase', 'Gigafactor Solutions', 'BlackRock', 'Marsh McLennan', 'IGT Solutions', 'RecroconX Technologies', 'HTC Global Services', 'STOXX', 'GEDU Services', 'CashKaro.com', 'Citi', 'RecroconX Technologies', 'Elements HR Services Pvt Ltd', 'Gigafactor Solutions', 'SAZ India- Complete Career Solutions', 'Gigafactor Solutions', 'Golden Opportunities', 'Accenture', 'LS Digital Group', 'DMAIC Academy & Consultancy', 'TwiLearn', 'Bytemetrics Solutions', 'Pure Storage', 'Wayfair', 'RecroconX Technologies', 'Innovateshield Solutions', 'Innovateshield Solutions', 'TwiLearn', 'RecroconX Technologies', 'OptimSpace', 'Accobridge Solutions', 'eClerx', 'Tech Mahindra', 'TwiLearn', 'JPMorganChase', 'Innovateshield Solutions', 'Infinitalent Consulting Pvt ltd', 'JPMorganChase', 'EVERSANA', 'Accobridge Solutions', 'Sopra Steria', 'Geeta University', 'Razorpay', 'Goldman Sachs', 'Larsen & Toubro', 'Accobridge Solutions', 'Reliance Industries Limited', 'Capco', 'InnovatexIQ Solutions', 'Digit88 Technologies', 'Amagi Corporation', 'DMAIC Academy & Consultancy', 'Unified Mentor Private Limited', 'TwiLearn', 'Innovateshield Solutions', 'RecroconX Technologies', 'Cognizant', 'Cognizant', 'Valasys Media', 'TwiLearn', 'InnovateNuo Solutions', 'Deloitte', 'HP', 'MMGS', 'Agodly Infotech LLP', 'Tata Chemicals', 'Bytemetrics Solutions', 'eClerx', 'Webito Infotech', 'Stegpearl', 'PepsiCo', 'PrimefactorX', 'Agodly Infotech LLP', 'Tata Consultancy Services', 'Innovateshield Solutions', 'Intellistaff Services Pvt. Ltd', 'Autodesk', 'Innovateshield Solutions', 'Sparkmetrics Solutions', 'Sparkmetrics Solutions', 'BeGig', 'Amazon', 'EY', 'Gigafactor Solutions', 'Solvers India', 'Innovateshield Solutions', 'RecroconX Technologies', 'SMS-Magic', 'JPMorganChase', 'PrimefactorX', 'PrimefactorX', 'Moglix', 'Solvers India', 'SAZ India- Complete Career Solutions', 'Sparkmetrics Solutions', 'Gigafactor Solutions', 'Intellistaff Services Pvt. Ltd', 'Inspire', 'Patra Corporation', 'MSCI Inc.', 'Unified Mentor Private Limited', 'Sparkmetrics Solutions', 'thinkbridge', 'Bytemetrics Solutions', 'EXL', 'PrimefactorX', 'American Express Global Business Travel', 'PrimefactorX']\n"
     ]
    }
   ],
   "source": [
    "companyname = []\n",
    "elements = driver.find_elements(By.CLASS_NAME, 'base-search-card__subtitle')\n",
    "\n",
    "for j in range(len(elements)):  # Use length of the actual list of elements\n",
    "    try:\n",
    "        Company = elements[j].text\n",
    "        companyname.append(Company)\n",
    "    except IndexError:\n",
    "        print(\"Done\")\n",
    "        break  # Exit loop after the last element\n",
    "\n",
    "print(companyname)"
   ]
  },
  {
   "cell_type": "code",
   "execution_count": 103,
   "metadata": {},
   "outputs": [
    {
     "name": "stdout",
     "output_type": "stream",
     "text": [
      "299\n"
     ]
    }
   ],
   "source": [
    "print(len(companyname))"
   ]
  },
  {
   "cell_type": "code",
   "execution_count": 104,
   "metadata": {},
   "outputs": [
    {
     "name": "stdout",
     "output_type": "stream",
     "text": [
      "['Data Analyst', 'Data Analyst', 'Data Analyst', 'Data Analyst - SQL', 'Data Analyst', 'Data Analyst Intern', 'Data Analyst', 'Data Analyst', 'Analyst', 'Data Analyst', 'Data Analyst', 'Reporting Analyst', 'Data Analyst', 'Analyst-Data Analytics', 'Data Analyst', 'Team Member - Analytics', 'Master Data Analyst', 'Data Analyst', 'Data Analyst', 'Data Analyst', 'Data Analyst', 'Data Analyst', 'Data Management Analyst', 'Data Analyst', 'Data Analyst', 'Data Analyst', 'Power BI - Banaglore', 'Data Analyst', 'Junior Data Analyst', 'Analyst-Data Science', 'Data Analyst', 'Analyst', 'Analyst', 'Data Analyst', 'Data Analyst', 'Analyst-Data Science', 'Data Analyst', 'Data Analyst', 'DATA ANALYST', 'Data Analyst', 'Data Analyst', 'Data Analyst', 'Data Analyst', 'Business Intelligence Analyst, gTech Analytics, Platforms and Tools', 'Data Analyst', 'Data Analyst', 'Data Analyst', 'Insights Analyst', 'Senior Data Analyst', 'Associate - India Data Management (Research)', 'Risk & Data Analyst', 'Analyst, Analytics', 'Analyst - Data and Analytics', 'Associate', 'BI Analyst (Data Dashboards, ETL, SQL)', 'Analyst', 'Data Analyst', 'Data Analyst', 'Junior Data Analyst', 'Data Analyst', 'Data Analyst', 'Power BI - Banaglore', 'Data Analyst', 'Junior Data Analyst', 'Analyst-Data Science', 'Data Analyst', 'Analyst', 'Analyst', 'Data Analyst', 'Analyst-Data Science', 'Associate - India Data Management (Research)', 'Risk & Data Analyst', 'Analyst, Analytics', 'Analyst - Data and Analytics', 'BI Analyst (Data Dashboards, ETL, SQL)', 'Analyst', 'Data Analyst', 'Data Analyst', 'Junior Data Analyst', 'Data Analyst', 'Data Analyst', 'Data Analyst', 'Data Analyst', 'Business Data Analyst', 'Data Analyst (REMOTE) - Contractor Role', 'Data Analyst', 'Data Analyst', 'Data Analyst', 'Data Analyst Trainee(Required Fresher)', 'Data Analyst', 'Senior Data Analyst', 'BI Consultant', 'Junior Data Analyst', 'Data Analyst', 'Data Analytics Trainee', 'Data Analysis Trainee Required', 'Data Analytics Trainee', 'Associate', 'Data Analytics', 'Data Analyst Trainee(Required Fresher)', 'Data Analytics Trainee-1', 'Data Analyst with Healthcare domain', 'Data Analytics Trainee', 'Data Analytics Trainee - 1', 'Data Analytics Trainee', 'Junior Data Analyst - ESG Data', 'Senior Data Analyst', 'Data Analytics Trainee', 'Data Analytics Trainee', 'Business Data Analyst', 'Data Analytics Trainee', 'Data Analyst and Analytics Trainee (Remotely)', 'Data Analytics Trainee', 'Associate', 'Business Analyst-Data Analytics', 'Data Analytics Trainee', 'Data Analysis Trainee WFH', 'Data Analytics - Analyst', 'Data Analysis Trainee Required', 'Data Analysis Analyst Trainee', 'Data Analyst trainee', 'Data Analyst', 'Data Analyst', 'Risk Data & Governance Analyst', 'Assistant Manager - Power BI', 'Data Analysis', 'Data Analytics Trainee-1', 'Data Analyst', 'Data Analyst', 'Data Analytics Trainee', 'Data Analysis or Analyst Trainee', 'Data Analyst', 'Decision Analytics Associate', 'Junior Data Analyst', 'Data Analysis Trainee Required', 'Business Data Analyst', 'Senior Data Analyst', 'Jr. Data Analyst', 'Data Analysis or Analyst Trainee', 'Power BI', 'Data Analysis Trainee Required', 'Data Analytics Trainee-1', 'Tableau Analyst', 'Data Analyst Trainee', 'Data Analytics Trainee', 'Data Analytics Trainee', 'Data Analyst', 'Data Analytics Trainee [Required]', 'Data Analytics Trainee - 1', 'Data Analyst Trainee', 'Marketing Data Analyst', 'Data Analyst Trainee', 'Associate Analyst, Analytics & Metrics-2-R-232373', 'Data Analyst and Analytics Trainee (Remotely)', 'Data Analyst', 'Data Analyst Trainee', 'Data Analytics Trainee-1', 'Data Analytics Trainee', 'Data Analyst', 'Senior Analyst-Data Analytics', 'Data Analytics Trainee - 1', 'Data Analyst, AVP', 'Data Analyst Trainee', 'Tech Data Analyst [T500-15498]', 'PowerBI Developer', 'Data Analytics Trainee', 'Data Analyst', 'MDG Associate', 'Climate Data Analyst', 'Data Analyst Trainee', 'Data Analyst', 'Growth Data Analyst', 'Data Analyst Trainee', 'Data Analyst Trainee', 'Junior Data Analyst - ESG Data', 'Growth Data Analyst', 'Analyst, Applied Analytics', 'Data Analyst_Banglore_Immediate Joiner', 'Python Data Analyst', 'Research Analyst', 'Data Modeler', 'Data Analyst Intern', 'Process Executive - Data', 'Data Analyst', 'Required Data Analytics Trainee : Fresher', 'Data Analytics Traineeship', 'Process Executive - Data', 'Business Intelligence Consultant', 'Client Data Analyst', 'Data Analytics Trainee', 'Data Analyst', 'Client Data Analyst', 'Data Analyst or Analytics Trainee', 'Analyst, Client Data Management', 'Lead Specialist - Data Science', 'Business Intelligence Specialist', 'Data Analytics Traineeship', 'Data Analyst', 'Junior Data Analyst', 'Senior Data Analyst', 'Senior Associate - Data Analyst', 'Reference Data Services Analyst VBA Macros in capital market.', 'Data Analytics Traineeship', 'Assistant Manager - MI', 'Data Analyst Trainee', 'Data Analyst Trainee (Remote - 1)', 'Data Analyst or Analytics Trainee', 'Data analytics - GO/JC/20153/2024', 'Senior Analyst', 'Executive / Associate - Digital Analytics', 'Data Modeler', 'Data Analyst Intern', 'Data Analytics Trainee', 'BI Data Analyst', 'Lead Analyst', 'Data Analyst Trainee', 'Data Analyst Trainee', 'Data Analytics Internship - Remote', 'Data Analyst Intern', 'Data Analytics Traineeship', 'Data Analyst Intern', 'Data Analysis Or Analyst Traineeship', 'Analyst', 'Microsoft Certified: Power BI - Immediate Joiner', 'Data Analyst', 'Client Data Analyst', 'Data Analytics Intern', 'Data analytics', 'Client Data Analyst', 'Associate / Senior Associate', 'Required Data Analytics Trainee', 'Python - Data Analyst', 'Performance Specialist', 'Senior Analytics Specialist', 'Data Engineering - Associate - Global Banking & Markets', 'Assistant Manager - ESG', 'Data Analysis Or Analyst Traineeship', 'Lead Analyst', 'Data Management Analyst', 'Data Analyst [ Required Trainee ]', 'Data Analyst- Tariff', 'Research Analyst', 'Data Modeler', 'Data Analyst Intern', 'Data Analyst', 'Required Data Analytics Trainee : Fresher', 'Data Analytics Traineeship', 'Process Executive - Data', 'Process Executive - Data', 'Data Research Analyst', 'Data Analyst Intern', 'Data Analyst Trainee - Opportunity', 'Data Scientist', 'Finance Data Analyst', 'Power BI Specialist', 'Data Analyst', 'Associate Officer', 'Data Analysis Analyst Trainee', 'Analyst', 'Data Analyst', 'Business Reporting Analyst', 'Data Engineer', 'Hiring Data Analyst Intern', 'Data Analyst', 'Data Modeler(Bangalore) NAB', 'Data Analytics Internship - Remote', 'Data Analyst', 'Workday Data Analyst', 'Hiring Data Analyst Trainee (Paid)', 'SQL Developers Apprentice', 'Hiring For Data Analyst Trainee', 'Data Quality Analyst - R/Python', 'Business Analyst, WHS Data', 'Metrics and Reporting Analyst', 'Data Analyst or Analytics Trainee', 'Data Visualization', 'Data Analyst or Analytics Trainee', 'Data Analytics Traineeship', 'Data Analyst/Operations Intern', 'Client Data Analyst', 'Data Analytics Intern', 'Data Analytics Intern', 'Moglix - Data Analyst - Power BI', 'Data Analyst - Immediate Joiner (Delhi)', 'Data Analytics Trainee', 'SQL Developers Apprentice Needed', 'Hiring Data Analytics Intern', 'Data Analyst', 'People Intelligence Analyst [T500-15385]', 'Data Analyst 1', 'ESG Python Data Analyst', 'Data Analyst Intern', 'SQL Developer Apprentice-Fresher', 'Senior Data Analyst', 'Required Data Analyst Trainee', 'Vector DB Engineer', 'Hiring Data Analyst Intern', 'Data Analyst/ Analytics Engineer', 'Data Analyst and Analysis Intern-1']\n"
     ]
    }
   ],
   "source": [
    "titlename = []\n",
    "elements = driver.find_elements(By.CLASS_NAME, 'base-search-card__title')\n",
    "\n",
    "for j in range(len(elements)):  # Use length of the actual list of elements\n",
    "    try:\n",
    "        Title = elements[j].text\n",
    "        titlename.append(Title)\n",
    "    except IndexError:\n",
    "        print(\"Done\")\n",
    "        break  # Exit loop after the last element\n",
    "\n",
    "print(titlename)"
   ]
  },
  {
   "cell_type": "code",
   "execution_count": 105,
   "metadata": {},
   "outputs": [
    {
     "name": "stdout",
     "output_type": "stream",
     "text": [
      "299\n"
     ]
    }
   ],
   "source": [
    "print(len(titlename))"
   ]
  },
  {
   "cell_type": "code",
   "execution_count": 106,
   "metadata": {},
   "outputs": [
    {
     "name": "stdout",
     "output_type": "stream",
     "text": [
      "['Bengaluru, Karnataka, India', 'Pune, Maharashtra, India', 'Bengaluru, Karnataka, India', 'Pune, Maharashtra, India', 'Haryana, India', 'Bangalore Urban, Karnataka, India', 'Bengaluru, Karnataka, India', 'Gurugram, Haryana, India', 'Bengaluru, Karnataka, India', 'Hyderabad, Telangana, India', 'Bengaluru, Karnataka, India', 'Gurugram, Haryana, India', 'Noida, Uttar Pradesh, India', 'Gurugram, Haryana, India', 'Chennai, Tamil Nadu, India', 'Mumbai Metropolitan Region', 'Bengaluru, Karnataka, India', 'Bengaluru, Karnataka, India', 'Vadodara, Gujarat, India', 'Pune, Maharashtra, India', 'Gurugram, Haryana, India', 'Bengaluru, Karnataka, India', 'Pune, Maharashtra, India', 'Hyderabad, Telangana, India', 'Gurugram, Haryana, India', 'Bengaluru, Karnataka, India', 'Bengaluru, Karnataka, India', 'Jamnagar, Gujarat, India', 'Gurugram, Haryana, India', 'Gurugram, Haryana, India', 'Pune, Maharashtra, India', 'Bengaluru, Karnataka, India', 'Hyderabad, Telangana, India', 'Greater Bengaluru Area', 'Mumbai Metropolitan Region', 'Gurugram, Haryana, India', 'Bengaluru, Karnataka, India', 'Delhi, India', 'Telangana, India', 'Bengaluru, Karnataka, India', 'India', 'Gurugram, Haryana, India', 'Pune, Maharashtra, India', 'Gurugram, Haryana, India', 'Delhi, Delhi, India', 'Noida, Uttar Pradesh, India', 'Noida, Uttar Pradesh, India', 'Bengaluru, Karnataka, India', 'Bengaluru, Karnataka, India', 'Mumbai, Maharashtra, India', 'Gurugram, Haryana, India', 'Mumbai Metropolitan Region', 'Bengaluru, Karnataka, India', 'Mumbai, Maharashtra, India', 'Bengaluru, Karnataka, India', 'Gurugram, Haryana, India', 'New Delhi, Delhi, India', 'India', 'Mumbai, Maharashtra, India', 'India', 'Bengaluru, Karnataka, India', 'Bengaluru, Karnataka, India', 'Jamnagar, Gujarat, India', 'Gurugram, Haryana, India', 'Gurugram, Haryana, India', 'Pune, Maharashtra, India', 'Bengaluru, Karnataka, India', 'Hyderabad, Telangana, India', 'Greater Bengaluru Area', 'Gurugram, Haryana, India', 'Mumbai, Maharashtra, India', 'Gurugram, Haryana, India', 'Mumbai Metropolitan Region', 'Bengaluru, Karnataka, India', 'Bengaluru, Karnataka, India', 'Gurugram, Haryana, India', 'New Delhi, Delhi, India', 'India', 'Mumbai, Maharashtra, India', 'India', 'Greater Bengaluru Area', 'Pune, Maharashtra, India', 'Bengaluru, Karnataka, India', 'Pune, Maharashtra, India', 'Bengaluru, Karnataka, India', 'Bengaluru, Karnataka, India', 'Pune, Maharashtra, India', 'Bengaluru, Karnataka, India', 'Pune, Maharashtra, India', 'Delhi, India', 'Bengaluru, Karnataka, India', 'Noida, Uttar Pradesh, India', 'Pune, Maharashtra, India', 'Hyderabad, Telangana, India', 'Visakhapatnam Rural mandal, India', 'Bengaluru, Karnataka, India', 'Pune, Maharashtra, India', 'Bengaluru, Karnataka, India', 'Bangalore Urban, Karnataka, India', 'Hyderabad, Telangana, India', 'Hyderabad, Telangana, India', 'Chennai, Tamil Nadu, India', 'Hyderabad, Telangana, India', 'India', 'Hyderabad, Telangana, India', 'Mumbai Metropolitan Region', 'Bengaluru, Karnataka, India', 'India', 'India', 'India', 'Pune, Maharashtra, India', 'India', 'Pune, Maharashtra, India', 'Pune, Maharashtra, India', 'Gurgaon, Haryana, India', 'Pune, Maharashtra, India', 'Chennai, Tamil Nadu, India', 'Bengaluru, Karnataka, India', 'Hyderabad, Telangana, India', 'India', 'Gurgaon, Haryana, India', 'Surat, Gujarat, India', 'Mumbai Metropolitan Region', 'Bengaluru, Karnataka, India', 'Ahmedabad, Gujarat, India', 'Sonipat, Haryana, India', 'Bengaluru, Karnataka, India', 'Mumbai, Maharashtra, India', 'Gurgaon, Haryana, India', 'Bengaluru, Karnataka, India', 'Bengaluru, Karnataka, India', 'Bengaluru East, Karnataka, India', 'Pune, Maharashtra, India', 'Mumbai Metropolitan Region', 'India', 'Pune, Maharashtra, India', 'Pune, Maharashtra, India', 'Mumbai Metropolitan Region', 'Visakhapatnam Rural mandal, India', 'Bengaluru, Karnataka, India', 'Pune, Maharashtra, India', 'Chennai, Tamil Nadu, India', 'Gurugram, Haryana, India', 'Pune, Maharashtra, India', 'Chennai, Tamil Nadu, India', 'Bengaluru, Karnataka, India', 'Bengaluru, Karnataka, India', 'Delhi, India', 'Navi Mumbai, Maharashtra, India', 'Bengaluru, Karnataka, India', 'Bengaluru, Karnataka, India', 'Bengaluru, Karnataka, India', 'Gurgaon, Haryana, India', 'Navi Mumbai, Maharashtra, India', 'India', 'Pune, Maharashtra, India', 'Navi Mumbai, Maharashtra, India', 'Chennai, Tamil Nadu, India', 'India', 'Gurugram, Haryana, India', 'Visakhapatnam Rural mandal, India', 'Bengaluru, Karnataka, India', 'Pune, Maharashtra, India', 'Hyderabad, Telangana, India', 'India', 'Ahmedabad, Gujarat, India', 'India', 'Pune, Maharashtra, India', 'Mumbai, Maharashtra, India', 'Bangalore North Rural, Karnataka, India', 'Telangana, India', 'Uttar Pradesh, India', 'Navi Mumbai, Maharashtra, India', 'Navi Mumbai, Maharashtra, India', 'Mumbai Metropolitan Region', 'India', 'Gurgaon, Haryana, India', 'Bengaluru, Karnataka, India', 'Bengaluru, Karnataka, India', 'Bengaluru, Karnataka, India', 'Pune, Maharashtra, India', 'Pune, Maharashtra, India', 'Pune, Maharashtra, India', 'Pune, Maharashtra, India', 'Delhi, India', 'India', 'Hyderabad, Telangana, India', 'Hyderabad, Telangana, India', 'Bengaluru, Karnataka, India', 'Nashik, Maharashtra, India', 'Bangalore Urban, Karnataka, India', 'Bengaluru, Karnataka, India', 'Pune, Maharashtra, India', 'Gurgaon, Haryana, India', 'Mumbai, Maharashtra, India', 'Gurugram, Haryana, India', 'Navi Mumbai, Maharashtra, India', 'Greater Chennai Area', 'Mumbai Metropolitan Region', 'Noida, Uttar Pradesh, India', 'Gurugram, Haryana, India', 'Gurugram, Haryana, India', 'Hyderabad, Telangana, India', 'Noida, Uttar Pradesh, India', 'Delhi, India', 'Hyderabad, Telangana, India', 'Bengaluru, Karnataka, India', 'Pune, Maharashtra, India', 'Bengaluru, Karnataka, India', 'Navi Mumbai, Maharashtra, India', 'Bengaluru, Karnataka, India', 'Mumbai Metropolitan Region', 'Hyderabad, Telangana, India', 'Bengaluru, Karnataka, India', 'Bengaluru, Karnataka, India', 'Lucknow, Uttar Pradesh, India', 'Chennai, Tamil Nadu, India', 'Hyderabad, Telangana, India', 'Delhi, India', 'Bengaluru, Karnataka, India', 'Pune, Maharashtra, India', 'Hyderabad, Telangana, India', 'Mumbai, Maharashtra, India', 'Greater Bengaluru Area', 'Gurgaon, Haryana, India', 'Bengaluru, Karnataka, India', 'Pune, Maharashtra, India', 'Bengaluru, Karnataka, India', 'Bengaluru, Karnataka, India', 'Bengaluru, Karnataka, India', 'Pune, Maharashtra, India', 'Chennai, Tamil Nadu, India', 'Panipat, Haryana, India', 'Greater Bengaluru Area', 'Bengaluru, Karnataka, India', 'Chennai, Tamil Nadu, India', 'Chennai, Tamil Nadu, India', 'Jamnagar, Gujarat, India', 'Bengaluru, Karnataka, India', 'Greater Kolkata Area', 'Pune, Maharashtra, India', 'Bengaluru, Karnataka, India', 'Pune, Maharashtra, India', 'Pune, Maharashtra, India', 'Pune, Maharashtra, India', 'Delhi, India', 'India', 'Pune, Maharashtra, India', 'Hyderabad, Telangana, India', 'Pune, Maharashtra, India', 'Gurgaon, Haryana, India', 'India', 'Bengaluru, Karnataka, India', 'Bengaluru, Karnataka, India', 'Mumbai, Maharashtra, India', 'Pune, Maharashtra, India', 'Okhamandal, Gujarat, India', 'Chennai, Tamil Nadu, India', 'Mumbai, Maharashtra, India', 'Ahmedabad, Gujarat, India', 'Jaipur, Rajasthan, India', 'Hyderabad, Telangana, India', 'India', 'Pune, Maharashtra, India', 'Bengaluru, Karnataka, India', 'Chennai, Tamil Nadu, India', 'Bengaluru East, Karnataka, India', 'Bengaluru, Karnataka, India', 'Visakhapatnam Rural mandal, India', 'Pune, Maharashtra, India', 'Navi Mumbai, Maharashtra, India', 'Greater Kolkata Area', 'Bengaluru, Karnataka, India', 'Bengaluru, Karnataka, India', 'Chennai, Tamil Nadu, India', 'Haryana, India', 'Chennai, Tamil Nadu, India', 'Chennai, Tamil Nadu, India', 'Pune, Maharashtra, India', 'Bengaluru, Karnataka, India', 'Bengaluru, Karnataka, India', 'Visakhapatnam Rural mandal, India', 'Noida, Uttar Pradesh, India', 'Delhi, Delhi, India', 'Bengaluru, Karnataka, India', 'Bengaluru, Karnataka, India', 'Nashik, Maharashtra, India', 'Greater Kolkata Area', 'Hyderabad, Telangana, India', 'Hyderabad, Telangana, India', 'Mumbai Metropolitan Region', 'Pune, Maharashtra, India', 'Pune, Maharashtra, India', 'India', 'Coimbatore, Tamil Nadu, India', 'Bangalore Urban, Karnataka, India', 'Hyderabad, Telangana, India', 'Gurgaon, Haryana, India', 'Hyderabad, Telangana, India']\n"
     ]
    }
   ],
   "source": [
    "location = []\n",
    "elements = driver.find_elements(By.CLASS_NAME, 'job-search-card__location')\n",
    "\n",
    "for j in range(len(elements)):  # Use length of the actual list of elements\n",
    "    try:\n",
    "        Location = elements[j].text\n",
    "        location.append(Location)\n",
    "    except IndexError:\n",
    "        print(\"Done\")\n",
    "        break  # Exit loop after the last element\n",
    "\n",
    "print(location)"
   ]
  },
  {
   "cell_type": "code",
   "execution_count": 107,
   "metadata": {},
   "outputs": [
    {
     "name": "stdout",
     "output_type": "stream",
     "text": [
      "299\n"
     ]
    }
   ],
   "source": [
    "print(len(location))"
   ]
  },
  {
   "cell_type": "code",
   "execution_count": 112,
   "metadata": {},
   "outputs": [
    {
     "name": "stdout",
     "output_type": "stream",
     "text": [
      "['3 weeks ago', '3 weeks ago', '3 weeks ago', '3 days ago', '1 day ago', '1 day ago', '1 week ago', '3 weeks ago', '2 days ago', '2 weeks ago', '4 days ago', '2 weeks ago', '1 day ago', '2 weeks ago', '2 weeks ago', '2 days ago', '1 day ago', '2 weeks ago', '3 weeks ago', '2 weeks ago', '3 weeks ago', '2 weeks ago', '3 weeks ago', '3 weeks ago', '2 weeks ago', '2 weeks ago', '1 day ago', '1 week ago', '2 weeks ago', '1 week ago', '1 day ago', '1 week ago', '3 days ago', '3 weeks ago', '1 week ago', '1 week ago', '2 weeks ago', '3 weeks ago', '2 weeks ago', '1 week ago', '2 weeks ago', '3 days ago', '3 days ago', '2 weeks ago', '1 day ago', '6 days ago', '3 weeks ago', '4 days ago', '3 weeks ago', '6 days ago', '3 weeks ago', '3 days ago', '1 week ago', '3 weeks ago', '1 week ago', '2 weeks ago', '2 weeks ago', '1 day ago', '1 week ago', '2 weeks ago', '1 week ago', '1 day ago', '1 week ago', '3 days ago', '6 days ago', '3 weeks ago', '4 days ago', '6 days ago', '3 weeks ago', '3 days ago', '1 week ago', '3 weeks ago', '1 week ago', '2 weeks ago', '2 days ago', '2 weeks ago', '2 weeks ago', '1 week ago', '2 weeks ago', '1 day ago', '2 days ago', '2 weeks ago', '2 weeks ago', '1 day ago', '1 day ago', '1 day ago', '2 weeks ago', '1 week ago', '1 day ago', '1 day ago', '2 weeks ago', '1 day ago', '1 day ago', '1 day ago', '2 days ago', '2 weeks ago', '1 day ago', '1 day ago', '1 day ago', '1 day ago', '1 day ago', '1 week ago', '1 day ago', '1 day ago', '6 days ago', '1 day ago', '1 day ago', '1 day ago', '2 weeks ago', '3 weeks ago', '3 days ago', '1 week ago', '1 day ago', '1 day ago', '3 weeks ago', '1 day ago', '1 day ago', '3 weeks ago', '4 days ago', '1 day ago', '1 day ago', '1 week ago', '1 week ago', '1 day ago', '3 weeks ago', '1 day ago', '1 day ago', '3 days ago', '1 day ago', '1 day ago', '1 day ago', '1 day ago', '1 day ago', '1 day ago', '1 day ago', '3 weeks ago', '1 day ago', '1 week ago', '1 day ago', '2 days ago', '1 day ago', '1 day ago', '1 day ago', '3 weeks ago', '3 days ago', '1 day ago', '1 week ago', '1 day ago', '1 week ago', '2 weeks ago', '1 day ago', '1 week ago', '3 days ago', '2 weeks ago', '1 week ago', '2 weeks ago', '1 day ago', '1 day ago', '2 weeks ago', '5 days ago', '1 week ago', '2 weeks ago', '2 weeks ago', '1 week ago', '1 day ago', '1 day ago', '1 day ago', '1 day ago', '2 days ago', '1 week ago', '2 weeks ago', '1 day ago', '1 week ago', '1 day ago', '1 day ago', '1 week ago', '2 weeks ago', '1 week ago', '1 day ago', '1 week ago', '3 weeks ago', '2 weeks ago', '1 day ago', '1 week ago', '1 day ago', '2 days ago', '1 day ago', '1 week ago', '1 week ago', '1 week ago', '1 week ago', '1 day ago', '1 day ago', '1 week ago', '1 week ago', '1 day ago', '1 day ago', '1 day ago', '1 day ago', '1 day ago', '1 day ago', '1 day ago', '1 day ago', '2 weeks ago', '1 day ago', '1 week ago', '1 day ago', '1 day ago', '1 day ago', '2 weeks ago', '1 day ago', '1 week ago', '3 days ago', '2 weeks ago', '3 weeks ago', '1 week ago', '1 day ago', '1 day ago', '6 days ago', '1 month ago', '2 weeks ago', '1 week ago', '1 day ago', '1 day ago', '1 day ago', '1 day ago', '2 days ago', '2 days ago', '1 day ago', '1 day ago', '3 weeks ago', '3 days ago', '1 week ago', '1 day ago', '1 day ago', '1 week ago', '1 week ago', '1 week ago', '1 day ago', '1 day ago', '3 days ago', '1 day ago', '1 day ago', '2 weeks ago', '1 day ago', '1 day ago', '1 day ago', '2 weeks ago', '2 days ago', '2 days ago', '1 day ago', '1 day ago', '1 day ago', '1 week ago', '6 days ago', '1 day ago', '1 day ago', '1 week ago', '1 week ago', '1 day ago', '1 day ago', '1 day ago', '2 weeks ago', '1 week ago', '1 week ago', '1 day ago', '1 day ago', '6 days ago', '1 day ago', '1 week ago', '1 day ago', '1 day ago']\n"
     ]
    }
   ],
   "source": [
    "time_of_post = []\n",
    "elements = driver.find_elements(By.CLASS_NAME, 'job-search-card__listdate')\n",
    "for j in range(len(elements)):\n",
    "    try:\n",
    "        Time = elements[j].text.strip()  # Strip any whitespace\n",
    "        if Time:  # Ensure text is non-empty\n",
    "            time_of_post.append(Time)\n",
    "        else:\n",
    "            print(f\"Skipping empty element at index {j}\")\n",
    "    except Exception as e:  # Handle any unexpected errors\n",
    "        print(f\"Error processing element at index {j}: {e}\")\n",
    "  # Exit loop after the last element\n",
    "\n",
    "print(time_of_post)"
   ]
  },
  {
   "cell_type": "code",
   "execution_count": 113,
   "metadata": {},
   "outputs": [
    {
     "name": "stdout",
     "output_type": "stream",
     "text": [
      "272\n"
     ]
    }
   ],
   "source": [
    "print(len(time_of_post))"
   ]
  },
  {
   "cell_type": "code",
   "execution_count": 114,
   "metadata": {},
   "outputs": [],
   "source": [
    "max_length = max(len(companyname), len(titlename), len(location), len(time_of_post))\n"
   ]
  },
  {
   "cell_type": "code",
   "execution_count": 116,
   "metadata": {},
   "outputs": [],
   "source": [
    "import numpy as np"
   ]
  },
  {
   "cell_type": "code",
   "execution_count": 117,
   "metadata": {},
   "outputs": [],
   "source": [
    "companyname = np.resize(companyname, max_length)\n",
    "titlename = np.resize(titlename, max_length)\n",
    "location = np.resize(location, max_length)\n",
    "time_of_post = np.resize(time_of_post, max_length)"
   ]
  },
  {
   "cell_type": "code",
   "execution_count": 118,
   "metadata": {},
   "outputs": [],
   "source": [
    "linkedin= pd.DataFrame({\n",
    "    \"Company\": companyname,\n",
    "    \"Title\": titlename,\n",
    "    \"Location\": location,\n",
    "    \"Time\":time_of_post})"
   ]
  },
  {
   "cell_type": "code",
   "execution_count": 119,
   "metadata": {},
   "outputs": [],
   "source": [
    "linkedin.to_csv('LinkedIn_DA_jobs_dataset.csv')"
   ]
  },
  {
   "cell_type": "code",
   "execution_count": 120,
   "metadata": {},
   "outputs": [
    {
     "name": "stdout",
     "output_type": "stream",
     "text": [
      "Data saved to 'LinkedIn_DA_jobs_dataset.csv'\n"
     ]
    }
   ],
   "source": [
    "print(\"Data saved to 'LinkedIn_DA_jobs_dataset.csv'\")"
   ]
  }
 ],
 "metadata": {
  "kernelspec": {
   "display_name": "Python 3",
   "language": "python",
   "name": "python3"
  },
  "language_info": {
   "codemirror_mode": {
    "name": "ipython",
    "version": 3
   },
   "file_extension": ".py",
   "mimetype": "text/x-python",
   "name": "python",
   "nbconvert_exporter": "python",
   "pygments_lexer": "ipython3",
   "version": "3.13.0"
  }
 },
 "nbformat": 4,
 "nbformat_minor": 2
}
